{
  "cells": [
    {
      "cell_type": "code",
      "source": [
        "#DeepFace"
      ],
      "metadata": {
        "id": "BkEjvP9BEdlS"
      },
      "execution_count": 1,
      "outputs": []
    },
    {
      "cell_type": "code",
      "execution_count": 2,
      "metadata": {
        "colab": {
          "base_uri": "https://localhost:8080/"
        },
        "id": "H8HAv8KP4wx1",
        "outputId": "e7b8170e-2442-4a4d-de6f-24266cca2fe9"
      },
      "outputs": [
        {
          "output_type": "stream",
          "name": "stdout",
          "text": [
            "Collecting deepface\n",
            "  Downloading deepface-0.0.89-py3-none-any.whl (94 kB)\n",
            "\u001b[2K     \u001b[90m━━━━━━━━━━━━━━━━━━━━━━━━━━━━━━━━━━━━━━━━\u001b[0m \u001b[32m94.3/94.3 kB\u001b[0m \u001b[31m1.1 MB/s\u001b[0m eta \u001b[36m0:00:00\u001b[0m\n",
            "\u001b[?25hRequirement already satisfied: numpy>=1.14.0 in /usr/local/lib/python3.10/dist-packages (from deepface) (1.25.2)\n",
            "Requirement already satisfied: pandas>=0.23.4 in /usr/local/lib/python3.10/dist-packages (from deepface) (1.5.3)\n",
            "Requirement already satisfied: gdown>=3.10.1 in /usr/local/lib/python3.10/dist-packages (from deepface) (4.7.3)\n",
            "Requirement already satisfied: tqdm>=4.30.0 in /usr/local/lib/python3.10/dist-packages (from deepface) (4.66.2)\n",
            "Requirement already satisfied: Pillow>=5.2.0 in /usr/local/lib/python3.10/dist-packages (from deepface) (9.4.0)\n",
            "Requirement already satisfied: opencv-python>=4.5.5.64 in /usr/local/lib/python3.10/dist-packages (from deepface) (4.8.0.76)\n",
            "Requirement already satisfied: tensorflow>=1.9.0 in /usr/local/lib/python3.10/dist-packages (from deepface) (2.15.0)\n",
            "Requirement already satisfied: keras>=2.2.0 in /usr/local/lib/python3.10/dist-packages (from deepface) (2.15.0)\n",
            "Requirement already satisfied: Flask>=1.1.2 in /usr/local/lib/python3.10/dist-packages (from deepface) (2.2.5)\n",
            "Collecting mtcnn>=0.1.0 (from deepface)\n",
            "  Downloading mtcnn-0.1.1-py3-none-any.whl (2.3 MB)\n",
            "\u001b[2K     \u001b[90m━━━━━━━━━━━━━━━━━━━━━━━━━━━━━━━━━━━━━━━━\u001b[0m \u001b[32m2.3/2.3 MB\u001b[0m \u001b[31m12.3 MB/s\u001b[0m eta \u001b[36m0:00:00\u001b[0m\n",
            "\u001b[?25hCollecting retina-face>=0.0.1 (from deepface)\n",
            "  Downloading retina_face-0.0.15-py3-none-any.whl (24 kB)\n",
            "Collecting fire>=0.4.0 (from deepface)\n",
            "  Downloading fire-0.6.0.tar.gz (88 kB)\n",
            "\u001b[2K     \u001b[90m━━━━━━━━━━━━━━━━━━━━━━━━━━━━━━━━━━━━━━━━\u001b[0m \u001b[32m88.4/88.4 kB\u001b[0m \u001b[31m8.5 MB/s\u001b[0m eta \u001b[36m0:00:00\u001b[0m\n",
            "\u001b[?25h  Preparing metadata (setup.py) ... \u001b[?25l\u001b[?25hdone\n",
            "Collecting gunicorn>=20.1.0 (from deepface)\n",
            "  Downloading gunicorn-21.2.0-py3-none-any.whl (80 kB)\n",
            "\u001b[2K     \u001b[90m━━━━━━━━━━━━━━━━━━━━━━━━━━━━━━━━━━━━━━━━\u001b[0m \u001b[32m80.2/80.2 kB\u001b[0m \u001b[31m6.1 MB/s\u001b[0m eta \u001b[36m0:00:00\u001b[0m\n",
            "\u001b[?25hRequirement already satisfied: six in /usr/local/lib/python3.10/dist-packages (from fire>=0.4.0->deepface) (1.16.0)\n",
            "Requirement already satisfied: termcolor in /usr/local/lib/python3.10/dist-packages (from fire>=0.4.0->deepface) (2.4.0)\n",
            "Requirement already satisfied: Werkzeug>=2.2.2 in /usr/local/lib/python3.10/dist-packages (from Flask>=1.1.2->deepface) (3.0.1)\n",
            "Requirement already satisfied: Jinja2>=3.0 in /usr/local/lib/python3.10/dist-packages (from Flask>=1.1.2->deepface) (3.1.3)\n",
            "Requirement already satisfied: itsdangerous>=2.0 in /usr/local/lib/python3.10/dist-packages (from Flask>=1.1.2->deepface) (2.1.2)\n",
            "Requirement already satisfied: click>=8.0 in /usr/local/lib/python3.10/dist-packages (from Flask>=1.1.2->deepface) (8.1.7)\n",
            "Requirement already satisfied: filelock in /usr/local/lib/python3.10/dist-packages (from gdown>=3.10.1->deepface) (3.13.1)\n",
            "Requirement already satisfied: requests[socks] in /usr/local/lib/python3.10/dist-packages (from gdown>=3.10.1->deepface) (2.31.0)\n",
            "Requirement already satisfied: beautifulsoup4 in /usr/local/lib/python3.10/dist-packages (from gdown>=3.10.1->deepface) (4.12.3)\n",
            "Requirement already satisfied: packaging in /usr/local/lib/python3.10/dist-packages (from gunicorn>=20.1.0->deepface) (24.0)\n",
            "Requirement already satisfied: python-dateutil>=2.8.1 in /usr/local/lib/python3.10/dist-packages (from pandas>=0.23.4->deepface) (2.8.2)\n",
            "Requirement already satisfied: pytz>=2020.1 in /usr/local/lib/python3.10/dist-packages (from pandas>=0.23.4->deepface) (2023.4)\n",
            "Requirement already satisfied: absl-py>=1.0.0 in /usr/local/lib/python3.10/dist-packages (from tensorflow>=1.9.0->deepface) (1.4.0)\n",
            "Requirement already satisfied: astunparse>=1.6.0 in /usr/local/lib/python3.10/dist-packages (from tensorflow>=1.9.0->deepface) (1.6.3)\n",
            "Requirement already satisfied: flatbuffers>=23.5.26 in /usr/local/lib/python3.10/dist-packages (from tensorflow>=1.9.0->deepface) (24.3.7)\n",
            "Requirement already satisfied: gast!=0.5.0,!=0.5.1,!=0.5.2,>=0.2.1 in /usr/local/lib/python3.10/dist-packages (from tensorflow>=1.9.0->deepface) (0.5.4)\n",
            "Requirement already satisfied: google-pasta>=0.1.1 in /usr/local/lib/python3.10/dist-packages (from tensorflow>=1.9.0->deepface) (0.2.0)\n",
            "Requirement already satisfied: h5py>=2.9.0 in /usr/local/lib/python3.10/dist-packages (from tensorflow>=1.9.0->deepface) (3.9.0)\n",
            "Requirement already satisfied: libclang>=13.0.0 in /usr/local/lib/python3.10/dist-packages (from tensorflow>=1.9.0->deepface) (18.1.1)\n",
            "Requirement already satisfied: ml-dtypes~=0.2.0 in /usr/local/lib/python3.10/dist-packages (from tensorflow>=1.9.0->deepface) (0.2.0)\n",
            "Requirement already satisfied: opt-einsum>=2.3.2 in /usr/local/lib/python3.10/dist-packages (from tensorflow>=1.9.0->deepface) (3.3.0)\n",
            "Requirement already satisfied: protobuf!=4.21.0,!=4.21.1,!=4.21.2,!=4.21.3,!=4.21.4,!=4.21.5,<5.0.0dev,>=3.20.3 in /usr/local/lib/python3.10/dist-packages (from tensorflow>=1.9.0->deepface) (3.20.3)\n",
            "Requirement already satisfied: setuptools in /usr/local/lib/python3.10/dist-packages (from tensorflow>=1.9.0->deepface) (67.7.2)\n",
            "Requirement already satisfied: typing-extensions>=3.6.6 in /usr/local/lib/python3.10/dist-packages (from tensorflow>=1.9.0->deepface) (4.10.0)\n",
            "Requirement already satisfied: wrapt<1.15,>=1.11.0 in /usr/local/lib/python3.10/dist-packages (from tensorflow>=1.9.0->deepface) (1.14.1)\n",
            "Requirement already satisfied: tensorflow-io-gcs-filesystem>=0.23.1 in /usr/local/lib/python3.10/dist-packages (from tensorflow>=1.9.0->deepface) (0.36.0)\n",
            "Requirement already satisfied: grpcio<2.0,>=1.24.3 in /usr/local/lib/python3.10/dist-packages (from tensorflow>=1.9.0->deepface) (1.62.1)\n",
            "Requirement already satisfied: tensorboard<2.16,>=2.15 in /usr/local/lib/python3.10/dist-packages (from tensorflow>=1.9.0->deepface) (2.15.2)\n",
            "Requirement already satisfied: tensorflow-estimator<2.16,>=2.15.0 in /usr/local/lib/python3.10/dist-packages (from tensorflow>=1.9.0->deepface) (2.15.0)\n",
            "Requirement already satisfied: wheel<1.0,>=0.23.0 in /usr/local/lib/python3.10/dist-packages (from astunparse>=1.6.0->tensorflow>=1.9.0->deepface) (0.43.0)\n",
            "Requirement already satisfied: MarkupSafe>=2.0 in /usr/local/lib/python3.10/dist-packages (from Jinja2>=3.0->Flask>=1.1.2->deepface) (2.1.5)\n",
            "Requirement already satisfied: google-auth<3,>=1.6.3 in /usr/local/lib/python3.10/dist-packages (from tensorboard<2.16,>=2.15->tensorflow>=1.9.0->deepface) (2.27.0)\n",
            "Requirement already satisfied: google-auth-oauthlib<2,>=0.5 in /usr/local/lib/python3.10/dist-packages (from tensorboard<2.16,>=2.15->tensorflow>=1.9.0->deepface) (1.2.0)\n",
            "Requirement already satisfied: markdown>=2.6.8 in /usr/local/lib/python3.10/dist-packages (from tensorboard<2.16,>=2.15->tensorflow>=1.9.0->deepface) (3.6)\n",
            "Requirement already satisfied: tensorboard-data-server<0.8.0,>=0.7.0 in /usr/local/lib/python3.10/dist-packages (from tensorboard<2.16,>=2.15->tensorflow>=1.9.0->deepface) (0.7.2)\n",
            "Requirement already satisfied: soupsieve>1.2 in /usr/local/lib/python3.10/dist-packages (from beautifulsoup4->gdown>=3.10.1->deepface) (2.5)\n",
            "Requirement already satisfied: charset-normalizer<4,>=2 in /usr/local/lib/python3.10/dist-packages (from requests[socks]->gdown>=3.10.1->deepface) (3.3.2)\n",
            "Requirement already satisfied: idna<4,>=2.5 in /usr/local/lib/python3.10/dist-packages (from requests[socks]->gdown>=3.10.1->deepface) (3.6)\n",
            "Requirement already satisfied: urllib3<3,>=1.21.1 in /usr/local/lib/python3.10/dist-packages (from requests[socks]->gdown>=3.10.1->deepface) (2.0.7)\n",
            "Requirement already satisfied: certifi>=2017.4.17 in /usr/local/lib/python3.10/dist-packages (from requests[socks]->gdown>=3.10.1->deepface) (2024.2.2)\n",
            "Requirement already satisfied: PySocks!=1.5.7,>=1.5.6 in /usr/local/lib/python3.10/dist-packages (from requests[socks]->gdown>=3.10.1->deepface) (1.7.1)\n",
            "Requirement already satisfied: cachetools<6.0,>=2.0.0 in /usr/local/lib/python3.10/dist-packages (from google-auth<3,>=1.6.3->tensorboard<2.16,>=2.15->tensorflow>=1.9.0->deepface) (5.3.3)\n",
            "Requirement already satisfied: pyasn1-modules>=0.2.1 in /usr/local/lib/python3.10/dist-packages (from google-auth<3,>=1.6.3->tensorboard<2.16,>=2.15->tensorflow>=1.9.0->deepface) (0.3.0)\n",
            "Requirement already satisfied: rsa<5,>=3.1.4 in /usr/local/lib/python3.10/dist-packages (from google-auth<3,>=1.6.3->tensorboard<2.16,>=2.15->tensorflow>=1.9.0->deepface) (4.9)\n",
            "Requirement already satisfied: requests-oauthlib>=0.7.0 in /usr/local/lib/python3.10/dist-packages (from google-auth-oauthlib<2,>=0.5->tensorboard<2.16,>=2.15->tensorflow>=1.9.0->deepface) (1.4.0)\n",
            "Requirement already satisfied: pyasn1<0.6.0,>=0.4.6 in /usr/local/lib/python3.10/dist-packages (from pyasn1-modules>=0.2.1->google-auth<3,>=1.6.3->tensorboard<2.16,>=2.15->tensorflow>=1.9.0->deepface) (0.5.1)\n",
            "Requirement already satisfied: oauthlib>=3.0.0 in /usr/local/lib/python3.10/dist-packages (from requests-oauthlib>=0.7.0->google-auth-oauthlib<2,>=0.5->tensorboard<2.16,>=2.15->tensorflow>=1.9.0->deepface) (3.2.2)\n",
            "Building wheels for collected packages: fire\n",
            "  Building wheel for fire (setup.py) ... \u001b[?25l\u001b[?25hdone\n",
            "  Created wheel for fire: filename=fire-0.6.0-py2.py3-none-any.whl size=117029 sha256=dde638a5333fa3b02cd485c920b4730d3db519ffd6959ed6089a09cf36a975c2\n",
            "  Stored in directory: /root/.cache/pip/wheels/d6/6d/5d/5b73fa0f46d01a793713f8859201361e9e581ced8c75e5c6a3\n",
            "Successfully built fire\n",
            "Installing collected packages: gunicorn, fire, mtcnn, retina-face, deepface\n",
            "Successfully installed deepface-0.0.89 fire-0.6.0 gunicorn-21.2.0 mtcnn-0.1.1 retina-face-0.0.15\n"
          ]
        }
      ],
      "source": [
        "!pip install deepface   # collecting deepface module\n"
      ]
    },
    {
      "cell_type": "code",
      "execution_count": 3,
      "metadata": {
        "colab": {
          "base_uri": "https://localhost:8080/"
        },
        "id": "zruMlE-V5Vej",
        "outputId": "b8b4d389-34df-4592-a184-c11fbbca649f"
      },
      "outputs": [
        {
          "output_type": "stream",
          "name": "stdout",
          "text": [
            "24-03-26 14:04:58 - Directory /root/.deepface created\n",
            "24-03-26 14:04:58 - Directory /root/.deepface/weights created\n"
          ]
        }
      ],
      "source": [
        "import deepface\n",
        "from deepface import DeepFace\n",
        "import cv2"
      ]
    },
    {
      "cell_type": "code",
      "execution_count": 4,
      "metadata": {
        "colab": {
          "base_uri": "https://localhost:8080/",
          "height": 73
        },
        "id": "9bLMBaYW822d",
        "outputId": "19555d5d-9be4-4ed4-f972-2ce0bfb0c871"
      },
      "outputs": [
        {
          "output_type": "display_data",
          "data": {
            "text/plain": [
              "<IPython.core.display.HTML object>"
            ],
            "text/html": [
              "\n",
              "     <input type=\"file\" id=\"files-33ddc75c-03f4-4340-ba24-828e146e7d70\" name=\"files[]\" multiple disabled\n",
              "        style=\"border:none\" />\n",
              "     <output id=\"result-33ddc75c-03f4-4340-ba24-828e146e7d70\">\n",
              "      Upload widget is only available when the cell has been executed in the\n",
              "      current browser session. Please rerun this cell to enable.\n",
              "      </output>\n",
              "      <script>// Copyright 2017 Google LLC\n",
              "//\n",
              "// Licensed under the Apache License, Version 2.0 (the \"License\");\n",
              "// you may not use this file except in compliance with the License.\n",
              "// You may obtain a copy of the License at\n",
              "//\n",
              "//      http://www.apache.org/licenses/LICENSE-2.0\n",
              "//\n",
              "// Unless required by applicable law or agreed to in writing, software\n",
              "// distributed under the License is distributed on an \"AS IS\" BASIS,\n",
              "// WITHOUT WARRANTIES OR CONDITIONS OF ANY KIND, either express or implied.\n",
              "// See the License for the specific language governing permissions and\n",
              "// limitations under the License.\n",
              "\n",
              "/**\n",
              " * @fileoverview Helpers for google.colab Python module.\n",
              " */\n",
              "(function(scope) {\n",
              "function span(text, styleAttributes = {}) {\n",
              "  const element = document.createElement('span');\n",
              "  element.textContent = text;\n",
              "  for (const key of Object.keys(styleAttributes)) {\n",
              "    element.style[key] = styleAttributes[key];\n",
              "  }\n",
              "  return element;\n",
              "}\n",
              "\n",
              "// Max number of bytes which will be uploaded at a time.\n",
              "const MAX_PAYLOAD_SIZE = 100 * 1024;\n",
              "\n",
              "function _uploadFiles(inputId, outputId) {\n",
              "  const steps = uploadFilesStep(inputId, outputId);\n",
              "  const outputElement = document.getElementById(outputId);\n",
              "  // Cache steps on the outputElement to make it available for the next call\n",
              "  // to uploadFilesContinue from Python.\n",
              "  outputElement.steps = steps;\n",
              "\n",
              "  return _uploadFilesContinue(outputId);\n",
              "}\n",
              "\n",
              "// This is roughly an async generator (not supported in the browser yet),\n",
              "// where there are multiple asynchronous steps and the Python side is going\n",
              "// to poll for completion of each step.\n",
              "// This uses a Promise to block the python side on completion of each step,\n",
              "// then passes the result of the previous step as the input to the next step.\n",
              "function _uploadFilesContinue(outputId) {\n",
              "  const outputElement = document.getElementById(outputId);\n",
              "  const steps = outputElement.steps;\n",
              "\n",
              "  const next = steps.next(outputElement.lastPromiseValue);\n",
              "  return Promise.resolve(next.value.promise).then((value) => {\n",
              "    // Cache the last promise value to make it available to the next\n",
              "    // step of the generator.\n",
              "    outputElement.lastPromiseValue = value;\n",
              "    return next.value.response;\n",
              "  });\n",
              "}\n",
              "\n",
              "/**\n",
              " * Generator function which is called between each async step of the upload\n",
              " * process.\n",
              " * @param {string} inputId Element ID of the input file picker element.\n",
              " * @param {string} outputId Element ID of the output display.\n",
              " * @return {!Iterable<!Object>} Iterable of next steps.\n",
              " */\n",
              "function* uploadFilesStep(inputId, outputId) {\n",
              "  const inputElement = document.getElementById(inputId);\n",
              "  inputElement.disabled = false;\n",
              "\n",
              "  const outputElement = document.getElementById(outputId);\n",
              "  outputElement.innerHTML = '';\n",
              "\n",
              "  const pickedPromise = new Promise((resolve) => {\n",
              "    inputElement.addEventListener('change', (e) => {\n",
              "      resolve(e.target.files);\n",
              "    });\n",
              "  });\n",
              "\n",
              "  const cancel = document.createElement('button');\n",
              "  inputElement.parentElement.appendChild(cancel);\n",
              "  cancel.textContent = 'Cancel upload';\n",
              "  const cancelPromise = new Promise((resolve) => {\n",
              "    cancel.onclick = () => {\n",
              "      resolve(null);\n",
              "    };\n",
              "  });\n",
              "\n",
              "  // Wait for the user to pick the files.\n",
              "  const files = yield {\n",
              "    promise: Promise.race([pickedPromise, cancelPromise]),\n",
              "    response: {\n",
              "      action: 'starting',\n",
              "    }\n",
              "  };\n",
              "\n",
              "  cancel.remove();\n",
              "\n",
              "  // Disable the input element since further picks are not allowed.\n",
              "  inputElement.disabled = true;\n",
              "\n",
              "  if (!files) {\n",
              "    return {\n",
              "      response: {\n",
              "        action: 'complete',\n",
              "      }\n",
              "    };\n",
              "  }\n",
              "\n",
              "  for (const file of files) {\n",
              "    const li = document.createElement('li');\n",
              "    li.append(span(file.name, {fontWeight: 'bold'}));\n",
              "    li.append(span(\n",
              "        `(${file.type || 'n/a'}) - ${file.size} bytes, ` +\n",
              "        `last modified: ${\n",
              "            file.lastModifiedDate ? file.lastModifiedDate.toLocaleDateString() :\n",
              "                                    'n/a'} - `));\n",
              "    const percent = span('0% done');\n",
              "    li.appendChild(percent);\n",
              "\n",
              "    outputElement.appendChild(li);\n",
              "\n",
              "    const fileDataPromise = new Promise((resolve) => {\n",
              "      const reader = new FileReader();\n",
              "      reader.onload = (e) => {\n",
              "        resolve(e.target.result);\n",
              "      };\n",
              "      reader.readAsArrayBuffer(file);\n",
              "    });\n",
              "    // Wait for the data to be ready.\n",
              "    let fileData = yield {\n",
              "      promise: fileDataPromise,\n",
              "      response: {\n",
              "        action: 'continue',\n",
              "      }\n",
              "    };\n",
              "\n",
              "    // Use a chunked sending to avoid message size limits. See b/62115660.\n",
              "    let position = 0;\n",
              "    do {\n",
              "      const length = Math.min(fileData.byteLength - position, MAX_PAYLOAD_SIZE);\n",
              "      const chunk = new Uint8Array(fileData, position, length);\n",
              "      position += length;\n",
              "\n",
              "      const base64 = btoa(String.fromCharCode.apply(null, chunk));\n",
              "      yield {\n",
              "        response: {\n",
              "          action: 'append',\n",
              "          file: file.name,\n",
              "          data: base64,\n",
              "        },\n",
              "      };\n",
              "\n",
              "      let percentDone = fileData.byteLength === 0 ?\n",
              "          100 :\n",
              "          Math.round((position / fileData.byteLength) * 100);\n",
              "      percent.textContent = `${percentDone}% done`;\n",
              "\n",
              "    } while (position < fileData.byteLength);\n",
              "  }\n",
              "\n",
              "  // All done.\n",
              "  yield {\n",
              "    response: {\n",
              "      action: 'complete',\n",
              "    }\n",
              "  };\n",
              "}\n",
              "\n",
              "scope.google = scope.google || {};\n",
              "scope.google.colab = scope.google.colab || {};\n",
              "scope.google.colab._files = {\n",
              "  _uploadFiles,\n",
              "  _uploadFilesContinue,\n",
              "};\n",
              "})(self);\n",
              "</script> "
            ]
          },
          "metadata": {}
        },
        {
          "output_type": "stream",
          "name": "stdout",
          "text": [
            "Saving human.jpeg to human.jpeg\n"
          ]
        }
      ],
      "source": [
        "from google.colab import files\n",
        "uploaded= files.upload()"
      ]
    },
    {
      "cell_type": "code",
      "execution_count": 5,
      "metadata": {
        "colab": {
          "base_uri": "https://localhost:8080/"
        },
        "id": "GajjD-0-9vU4",
        "outputId": "8fc348f2-7370-48c2-ca34-c7eb7129888a"
      },
      "outputs": [
        {
          "output_type": "stream",
          "name": "stderr",
          "text": [
            "Action: emotion:   0%|          | 0/4 [00:00<?, ?it/s]"
          ]
        },
        {
          "output_type": "stream",
          "name": "stdout",
          "text": [
            "24-03-26 14:05:53 - facial_expression_model_weights.h5 will be downloaded...\n"
          ]
        },
        {
          "output_type": "stream",
          "name": "stderr",
          "text": [
            "Downloading...\n",
            "From: https://github.com/serengil/deepface_models/releases/download/v1.0/facial_expression_model_weights.h5\n",
            "To: /root/.deepface/weights/facial_expression_model_weights.h5\n",
            "\n",
            "  0%|          | 0.00/5.98M [00:00<?, ?B/s]\u001b[A\n",
            " 18%|█▊        | 1.05M/5.98M [00:00<00:00, 7.91MB/s]\u001b[A\n",
            " 44%|████▍     | 2.62M/5.98M [00:00<00:00, 10.7MB/s]\u001b[A\n",
            "100%|██████████| 5.98M/5.98M [00:00<00:00, 14.6MB/s]\n",
            "Action: age:  25%|██▌       | 1/4 [00:11<00:35, 11.85s/it]    "
          ]
        },
        {
          "output_type": "stream",
          "name": "stdout",
          "text": [
            "24-03-26 14:06:07 - age_model_weights.h5 will be downloaded...\n"
          ]
        },
        {
          "output_type": "stream",
          "name": "stderr",
          "text": [
            "Downloading...\n",
            "From: https://github.com/serengil/deepface_models/releases/download/v1.0/age_model_weights.h5\n",
            "To: /root/.deepface/weights/age_model_weights.h5\n",
            "\n",
            "  0%|          | 0.00/539M [00:00<?, ?B/s]\u001b[A\n",
            "  0%|          | 1.57M/539M [00:00<00:40, 13.2MB/s]\u001b[A\n",
            "  1%|          | 4.19M/539M [00:00<00:28, 19.0MB/s]\u001b[A\n",
            "  1%|▏         | 7.86M/539M [00:00<00:20, 25.8MB/s]\u001b[A\n",
            "  2%|▏         | 13.1M/539M [00:00<00:14, 35.4MB/s]\u001b[A\n",
            "  4%|▍         | 21.5M/539M [00:00<00:10, 51.3MB/s]\u001b[A\n",
            "  6%|▌         | 33.6M/539M [00:00<00:06, 73.8MB/s]\u001b[A\n",
            "  9%|▉         | 50.9M/539M [00:00<00:04, 105MB/s] \u001b[A\n",
            " 14%|█▎        | 73.9M/539M [00:00<00:03, 144MB/s]\u001b[A\n",
            " 18%|█▊        | 95.4M/539M [00:00<00:02, 165MB/s]\u001b[A\n",
            " 21%|██▏       | 115M/539M [00:01<00:02, 173MB/s] \u001b[A\n",
            " 25%|██▍       | 133M/539M [00:01<00:02, 166MB/s]\u001b[A\n",
            " 28%|██▊       | 152M/539M [00:01<00:02, 174MB/s]\u001b[A\n",
            " 32%|███▏      | 174M/539M [00:01<00:01, 187MB/s]\u001b[A\n",
            " 36%|███▋      | 197M/539M [00:01<00:01, 197MB/s]\u001b[A\n",
            " 41%|████      | 220M/539M [00:01<00:01, 206MB/s]\u001b[A\n",
            " 45%|████▍     | 241M/539M [00:01<00:01, 207MB/s]\u001b[A\n",
            " 49%|████▊     | 262M/539M [00:01<00:01, 196MB/s]\u001b[A\n",
            " 52%|█████▏    | 282M/539M [00:01<00:01, 192MB/s]\u001b[A\n",
            " 56%|█████▌    | 301M/539M [00:02<00:01, 192MB/s]\u001b[A\n",
            " 60%|█████▉    | 323M/539M [00:02<00:01, 199MB/s]\u001b[A\n",
            " 64%|██████▎   | 343M/539M [00:02<00:00, 200MB/s]\u001b[A\n",
            " 68%|██████▊   | 366M/539M [00:02<00:00, 206MB/s]\u001b[A\n",
            " 72%|███████▏  | 387M/539M [00:02<00:00, 205MB/s]\u001b[A\n",
            " 76%|███████▌  | 408M/539M [00:02<00:00, 206MB/s]\u001b[A\n",
            " 80%|███████▉  | 431M/539M [00:02<00:00, 213MB/s]\u001b[A\n",
            " 84%|████████▍ | 454M/539M [00:02<00:00, 215MB/s]\u001b[A\n",
            " 88%|████████▊ | 476M/539M [00:02<00:00, 202MB/s]\u001b[A\n",
            " 92%|█████████▏| 496M/539M [00:03<00:00, 174MB/s]\u001b[A\n",
            " 95%|█████████▌| 514M/539M [00:03<00:00, 176MB/s]\u001b[A\n",
            "100%|██████████| 539M/539M [00:03<00:00, 167MB/s]\n",
            "Action: gender:  50%|█████     | 2/4 [00:21<00:21, 10.62s/it]"
          ]
        },
        {
          "output_type": "stream",
          "name": "stdout",
          "text": [
            "24-03-26 14:06:16 - gender_model_weights.h5 will be downloaded...\n"
          ]
        },
        {
          "output_type": "stream",
          "name": "stderr",
          "text": [
            "Downloading...\n",
            "From: https://github.com/serengil/deepface_models/releases/download/v1.0/gender_model_weights.h5\n",
            "To: /root/.deepface/weights/gender_model_weights.h5\n",
            "\n",
            "  0%|          | 0.00/537M [00:00<?, ?B/s]\u001b[A\n",
            "  0%|          | 1.05M/537M [00:00<01:15, 7.07MB/s]\u001b[A\n",
            "  0%|          | 2.62M/537M [00:00<00:51, 10.3MB/s]\u001b[A\n",
            "  1%|          | 4.72M/537M [00:00<00:36, 14.4MB/s]\u001b[A\n",
            "  1%|▏         | 7.86M/537M [00:00<00:26, 20.0MB/s]\u001b[A\n",
            "  2%|▏         | 12.6M/537M [00:00<00:18, 28.9MB/s]\u001b[A\n",
            "  4%|▎         | 19.9M/537M [00:00<00:12, 42.7MB/s]\u001b[A\n",
            "  6%|▌         | 30.9M/537M [00:00<00:08, 62.9MB/s]\u001b[A\n",
            "  9%|▉         | 47.2M/537M [00:00<00:05, 93.3MB/s]\u001b[A\n",
            " 13%|█▎        | 70.3M/537M [00:00<00:03, 135MB/s] \u001b[A\n",
            " 17%|█▋        | 93.8M/537M [00:01<00:02, 165MB/s]\u001b[A\n",
            " 22%|██▏       | 116M/537M [00:01<00:02, 181MB/s] \u001b[A\n",
            " 26%|██▌       | 139M/537M [00:01<00:02, 196MB/s]\u001b[A\n",
            " 30%|██▉       | 159M/537M [00:01<00:02, 179MB/s]\u001b[A\n",
            " 34%|███▎      | 180M/537M [00:01<00:01, 189MB/s]\u001b[A\n",
            " 38%|███▊      | 203M/537M [00:01<00:01, 199MB/s]\u001b[A\n",
            " 42%|████▏     | 224M/537M [00:01<00:01, 200MB/s]\u001b[A\n",
            " 45%|████▌     | 244M/537M [00:01<00:01, 198MB/s]\u001b[A\n",
            " 50%|█████     | 269M/537M [00:01<00:01, 212MB/s]\u001b[A\n",
            " 54%|█████▍    | 291M/537M [00:02<00:01, 213MB/s]\u001b[A\n",
            " 58%|█████▊    | 312M/537M [00:02<00:01, 199MB/s]\u001b[A\n",
            " 62%|██████▏   | 333M/537M [00:02<00:01, 189MB/s]\u001b[A\n",
            " 66%|██████▌   | 352M/537M [00:02<00:00, 190MB/s]\u001b[A\n",
            " 69%|██████▉   | 372M/537M [00:02<00:00, 189MB/s]\u001b[A\n",
            " 73%|███████▎  | 393M/537M [00:02<00:00, 195MB/s]\u001b[A\n",
            " 77%|███████▋  | 413M/537M [00:02<00:00, 194MB/s]\u001b[A\n",
            " 81%|████████  | 435M/537M [00:02<00:00, 196MB/s]\u001b[A\n",
            " 85%|████████▍ | 456M/537M [00:02<00:00, 200MB/s]\u001b[A\n",
            " 89%|████████▉ | 477M/537M [00:03<00:00, 203MB/s]\u001b[A\n",
            " 93%|█████████▎| 499M/537M [00:03<00:00, 207MB/s]\u001b[A\n",
            "100%|██████████| 537M/537M [00:03<00:00, 164MB/s]\n",
            "Action: race:  75%|███████▌  | 3/4 [00:31<00:10, 10.08s/it]  "
          ]
        },
        {
          "output_type": "stream",
          "name": "stdout",
          "text": [
            "24-03-26 14:06:25 - race_model_single_batch.h5 will be downloaded...\n"
          ]
        },
        {
          "output_type": "stream",
          "name": "stderr",
          "text": [
            "Downloading...\n",
            "From: https://github.com/serengil/deepface_models/releases/download/v1.0/race_model_single_batch.h5\n",
            "To: /root/.deepface/weights/race_model_single_batch.h5\n",
            "\n",
            "  0%|          | 0.00/537M [00:00<?, ?B/s]\u001b[A\n",
            "  0%|          | 1.05M/537M [00:00<01:00, 8.91MB/s]\u001b[A\n",
            "  0%|          | 2.62M/537M [00:00<00:43, 12.3MB/s]\u001b[A\n",
            "  1%|          | 5.24M/537M [00:00<00:30, 17.5MB/s]\u001b[A\n",
            "  2%|▏         | 9.44M/537M [00:00<00:20, 25.6MB/s]\u001b[A\n",
            "  3%|▎         | 15.2M/537M [00:00<00:14, 36.3MB/s]\u001b[A\n",
            "  4%|▍         | 24.1M/537M [00:00<00:09, 53.0MB/s]\u001b[A\n",
            "  7%|▋         | 37.2M/537M [00:00<00:06, 77.2MB/s]\u001b[A\n",
            " 10%|█         | 55.6M/537M [00:00<00:04, 110MB/s] \u001b[A\n",
            " 15%|█▍        | 79.7M/537M [00:00<00:03, 149MB/s]\u001b[A\n",
            " 19%|█▊        | 101M/537M [00:01<00:02, 167MB/s] \u001b[A\n",
            " 22%|██▏       | 118M/537M [00:01<00:02, 163MB/s]\u001b[A\n",
            " 25%|██▌       | 136M/537M [00:01<00:02, 166MB/s]\u001b[A\n",
            " 29%|██▉       | 157M/537M [00:01<00:02, 178MB/s]\u001b[A\n",
            " 33%|███▎      | 179M/537M [00:01<00:01, 190MB/s]\u001b[A\n",
            " 37%|███▋      | 198M/537M [00:01<00:01, 190MB/s]\u001b[A\n",
            " 41%|████      | 219M/537M [00:01<00:01, 196MB/s]\u001b[A\n",
            " 45%|████▌     | 243M/537M [00:01<00:01, 207MB/s]\u001b[A\n",
            " 49%|████▉     | 266M/537M [00:01<00:01, 214MB/s]\u001b[A\n",
            " 53%|█████▎    | 287M/537M [00:02<00:01, 195MB/s]\u001b[A\n",
            " 57%|█████▋    | 307M/537M [00:02<00:01, 193MB/s]\u001b[A\n",
            " 61%|██████    | 327M/537M [00:02<00:01, 169MB/s]\u001b[A\n",
            " 64%|██████▍   | 345M/537M [00:02<00:01, 169MB/s]\u001b[A\n",
            " 68%|██████▊   | 363M/537M [00:02<00:01, 170MB/s]\u001b[A\n",
            " 71%|███████   | 380M/537M [00:02<00:00, 167MB/s]\u001b[A\n",
            " 74%|███████▍  | 397M/537M [00:04<00:05, 25.4MB/s]\u001b[A\n",
            " 78%|███████▊  | 419M/537M [00:04<00:03, 36.0MB/s]\u001b[A\n",
            " 82%|████████▏ | 441M/537M [00:04<00:01, 50.0MB/s]\u001b[A\n",
            " 86%|████████▌ | 460M/537M [00:05<00:01, 62.7MB/s]\u001b[A\n",
            " 89%|████████▉ | 477M/537M [00:05<00:00, 71.6MB/s]\u001b[A\n",
            " 92%|█████████▏| 493M/537M [00:05<00:00, 80.6MB/s]\u001b[A\n",
            " 96%|█████████▌| 514M/537M [00:05<00:00, 101MB/s] \u001b[A\n",
            "100%|██████████| 537M/537M [00:05<00:00, 97.2MB/s]\n",
            "Action: race: 100%|██████████| 4/4 [00:42<00:00, 10.58s/it]\n"
          ]
        }
      ],
      "source": [
        "check_img = cv2.imread('human.jpeg')\n",
        "analyze_face = DeepFace.analyze(check_img)"
      ]
    },
    {
      "cell_type": "code",
      "execution_count": 6,
      "metadata": {
        "colab": {
          "base_uri": "https://localhost:8080/"
        },
        "id": "H7YCmGNY_eGZ",
        "outputId": "d08d084b-79c8-454c-a9e8-287e8efe856c"
      },
      "outputs": [
        {
          "output_type": "execute_result",
          "data": {
            "text/plain": [
              "[{'emotion': {'angry': 96.92956209182739,\n",
              "   'disgust': 3.226098144182288e-06,\n",
              "   'fear': 3.0115654692053795,\n",
              "   'happy': 0.0007764416295685805,\n",
              "   'sad': 0.05809547728858888,\n",
              "   'surprise': 1.2620714473499106e-07,\n",
              "   'neutral': 2.0983843551647396e-07},\n",
              "  'dominant_emotion': 'angry',\n",
              "  'region': {'x': 264,\n",
              "   'y': 222,\n",
              "   'w': 82,\n",
              "   'h': 82,\n",
              "   'left_eye': None,\n",
              "   'right_eye': None},\n",
              "  'face_confidence': 0.94,\n",
              "  'age': 27,\n",
              "  'gender': {'Woman': 3.3145349472761154, 'Man': 96.68546915054321},\n",
              "  'dominant_gender': 'Man',\n",
              "  'race': {'asian': 3.014390543103218,\n",
              "   'indian': 0.019612810865510255,\n",
              "   'black': 0.001096866799343843,\n",
              "   'white': 94.54984664916992,\n",
              "   'middle eastern': 0.5447249859571457,\n",
              "   'latino hispanic': 1.8703265115618706},\n",
              "  'dominant_race': 'white'}]"
            ]
          },
          "metadata": {},
          "execution_count": 6
        }
      ],
      "source": [
        "analyze_face"
      ]
    },
    {
      "cell_type": "code",
      "source": [
        "#  chatbot Program starts here."
      ],
      "metadata": {
        "id": "1O4DZ_UmEOPD"
      },
      "execution_count": null,
      "outputs": []
    },
    {
      "cell_type": "code",
      "execution_count": 7,
      "metadata": {
        "colab": {
          "base_uri": "https://localhost:8080/"
        },
        "id": "2n-u7R6YDmRr",
        "outputId": "286538d1-bff9-45e0-e699-4ea6c845800c"
      },
      "outputs": [
        {
          "output_type": "execute_result",
          "data": {
            "text/plain": [
              "True"
            ]
          },
          "metadata": {},
          "execution_count": 7
        }
      ],
      "source": [
        "import io\n",
        "import random\n",
        "import string\n",
        "import warnings\n",
        "from sklearn.feature_extraction.text import TfidfVectorizer\n",
        "from sklearn.metrics.pairwise import cosine_similarity\n",
        "warnings.filterwarnings('ignore')\n",
        "\n",
        "import nltk\n",
        "from nltk.stem import WordNetLemmatizer\n",
        "nltk.download('popular', quiet=True)"
      ]
    },
    {
      "cell_type": "code",
      "execution_count": 11,
      "metadata": {
        "id": "xcxj1_7oFnVi"
      },
      "outputs": [],
      "source": [
        "with open('Chatbot.txt','r', encoding='utf8', errors ='ignore') as fin:\n",
        "    raw = fin.read().lower()"
      ]
    },
    {
      "cell_type": "code",
      "execution_count": 14,
      "metadata": {
        "colab": {
          "base_uri": "https://localhost:8080/"
        },
        "id": "D1xkkAuoJLxY",
        "outputId": "84d55b06-e70f-4329-b0a1-0ad28b5fa040"
      },
      "outputs": [
        {
          "output_type": "stream",
          "name": "stdout",
          "text": [
            "a chatbot (also known as a talkbot, chatterbot, bot, im bot, interactive agent, or artificial conversational entity) is a computer program or an artificial intelligence which conducts a conversation via auditory or textual methods. such programs are often designed to convincingly simulate how a human would behave as a conversational partner, thereby passing the turing test. chatbots are typically used in dialog systems for various practical purposes including customer service or information acquisition. some chatterbots use sophisticated natural language processing systems, but many simpler systems scan for keywords within the input, then pull a reply with the most matching keywords, or the most similar wording pattern, from a database.\n",
            "\n",
            "the term \"chatterbot\" was originally coined by michael mauldin (creator of the first verbot, julia) in 1994 to describe these conversational programs.today, most chatbots are either accessed via virtual assistants such as google assistant and amazon alexa, via messaging apps such as facebook messenger or wechat, or via individual organizations' apps and websites. chatbots can be classified into usage categories such as conversational commerce (e-commerce via chat), analytics, communication, customer support, design, developer tools, education, entertainment, finance, food, games, health, hr, marketing, news, personal, productivity, shopping, social, sports, travel and utilities.\n",
            "background\n",
            "in 1950, alan turing's famous article \"computing machinery and intelligence\" was published, which proposed what is now called the turing test as a criterion of intelligence. this criterion depends on the ability of a computer program to impersonate a human in a real-time written conversation with a human judge, sufficiently well that the judge is unable to distinguish reliably—on the basis of the conversational content alone—between the program and a real human. the notoriety of turing's proposed test stimulated great interest in joseph weizenbaum's program eliza, published in 1966, which seemed to be able to fool users into believing that they were conversing with a real human. however weizenbaum himself did not claim that eliza was genuinely intelligent, and the introduction to his paper presented it more as a debunking exercise:\n",
            "\n",
            "[in] artificial intelligence ... machines are made to behave in wondrous ways, often sufficient to dazzle even the most experienced observer. but once a particular program is unmasked, once its inner workings are explained ... its magic crumbles away; it stands revealed as a mere collection of procedures ... the observer says to himself \"i could have written that\". with that thought he moves the program in question from the shelf marked \"intelligent\", to that reserved for curios ... the object of this paper is to cause just such a re-evaluation of the program about to be \"explained\". few programs ever needed it more.\n",
            "\n",
            "eliza's key method of operation (copied by chatbot designers ever since) involves the recognition of cue words or phrases in the input, and the output of corresponding pre-prepared or pre-programmed responses that can move the conversation forward in an apparently meaningful way (e.g. by responding to any input that contains the word 'mother' with 'tell me more about your family').thus an illusion of understanding is generated, even though the processing involved has been merely superficial. eliza showed that such an illusion is surprisingly easy to generate, because human judges are so ready to give the benefit of the doubt when conversational responses are capable of being interpreted as \"intelligent\".\n",
            "\n",
            "interface designers have come to appreciate that humans' readiness to interpret computer output as genuinely conversational—even when it is actually based on rather simple pattern-matching—can be exploited for useful purposes. most people prefer to engage with programs that are human-like, and this gives chatbot-style techniques a potentially useful role in interactive systems that need to elicit information from users, as long as that information is relatively straightforward and falls into predictable categories. thus, for example, online help systems can usefully employ chatbot techniques to identify the area of help that users require, potentially providing a \"friendlier\" interface than a more formal search or menu system. this sort of usage holds the prospect of moving chatbot technology from weizenbaum's \"shelf ... reserved for curios\" to that marked \"genuinely useful computational methods\".\n",
            "\n",
            "development\n",
            "the classic historic early chatbots are eliza (1966) and parry (1972).more recent notable programs include a.l.i.c.e., jabberwacky and d.u.d.e (agence nationale de la recherche and cnrs 2006). while eliza and parry were used exclusively to simulate typed conversation, many chatbots now include functional features such as games and web searching abilities. in 1984, a book called the policeman's beard is half constructed was published, allegedly written by the chatbot racter (though the program as released would not have been capable of doing so).\n",
            "\n",
            "one pertinent field of ai research is natural language processing. usually, weak ai fields employ specialized software or programming languages created specifically for the narrow function required. for example, a.l.i.c.e. uses a markup language called aiml, which is specific to its function as a conversational agent, and has since been adopted by various other developers of, so called, alicebots. nevertheless, a.l.i.c.e. is still purely based on pattern matching techniques without any reasoning capabilities, the same technique eliza was using back in 1966. this is not strong ai, which would require sapience and logical reasoning abilities.\n",
            "\n",
            "jabberwacky learns new responses and context based on real-time user interactions, rather than being driven from a static database. some more recent chatbots also combine real-time learning with evolutionary algorithms that optimise their ability to communicate based on each conversation held. still, there is currently no general purpose conversational artificial intelligence, and some software developers focus on the practical aspect, information retrieval.\n",
            "\n",
            "chatbot competitions focus on the turing test or more specific goals. two such annual contests are the loebner prize and the chatterbox challenge (offline since 2015, materials can still be found from web archives).\n",
            "\n",
            "according to forrester (2015), ai will replace 16 percent of american jobs by the end of the decade.chatbots have been used in applications such as customer service, sales and product education. however, a study conducted by narrative science in 2015 found that 80 percent of their respondents believe ai improves worker performance and creates jobs.[citation needed]\n",
            "\n",
            "application\n",
            "see also: virtual assistant\n",
            "\n",
            "aeromexico airline chatbot running on facebook messenger, march 2018\n",
            "messaging apps\n",
            "many companies' chatbots run on messaging apps like facebook messenger (since 2016), wechat (since 2013),whatsapp, livechat, kik, slack, line, telegram, or simply via sms. they are used for b2c customer service, sales and marketing.\n",
            "\n",
            "in 2016, facebook messenger allowed developers to place chatbots on their platform. there were 30,000 bots created for messenger in the first six months, rising to 100,000 by september 2017.\n",
            "\n",
            "since september 2017, this has also been as part of a pilot program on whatsapp. airlines klm and aeroméxico both announced their participation in the testing;both airlines had previously launched customer services on the facebook messenger platform.\n",
            "\n",
            "the bots usually appear as one of the user's contacts, but can sometimes act as participants in a group chat.\n",
            "\n",
            "many banks and insurers, media and e-commerce companies, airlines and hotel chains, retailers, health care providers, government entities and restaurant chains have used chatbots to answer simple questions, increase customer engagement,for promotion, and to offer additional ways to order from them.\n",
            "\n",
            "a 2017 study showed 4% of companies used chatbots.according to a 2016 study, 80% of businesses said they intended to have one by 2020.\n",
            "\n",
            "as part of company apps and websites\n",
            "previous generations of chatbots were present on company websites, e.g. ask jenn from alaska airlines which debuted in 2008 or expedia's virtual customer service agent which launched in 2011.the newer generation of chatbots includes ibm watson-powered \"rocky\", introduced in february 2017 by the new york city-based e-commerce company rare carat to provide information to prospective diamond buyers.\n",
            "\n",
            "company internal platforms\n",
            "other companies explore ways they can use chatbots internally, for example for customer support, human resources, or even in internet-of-things (iot) projects. overstock.com, for one, has reportedly launched a chatbot named mila to automate certain simple yet time-consuming processes when requesting for a sick leave.other large companies such as lloyds banking group, royal bank of scotland, renault and citroën are now using automated online assistants instead of call centres with humans to provide a first point of contact. a saas chatbot business ecosystem has been steadily growing since the f8 conference when zuckerberg unveiled that messenger would allow chatbots into the app.\n",
            "\n",
            "toys\n",
            "chatbots have also been incorporated into devices not primarily meant for computing such as toys.\n",
            "\n",
            "hello barbie is an internet-connected version of the doll that uses a chatbot provided by the company toytalk,which previously used the chatbot for a range of smartphone-based characters for children.these characters' behaviors are constrained by a set of rules that in effect emulate a particular character and produce a storyline.\n",
            "\n",
            "ibm's watson computer has been used as the basis for chatbot-based educational toys for companies such as cognitoys intended to interact with children for educational purposes.\n",
            "\n",
            "chatbot creation\n",
            "the process of creating a chatbot follows a pattern similar to the development of a web page or a mobile app. it can be divided into design, building, analytics and maintenance.\n",
            "\n",
            "design\n",
            "the chatbot design is the process that defines the interaction between the user and the chatbot.the chatbot designer will define the chatbot personality, the questions that will be asked to the users, and the overall interaction.it can be viewed as a subset of the conversational design. in order to speed up this process, designers can use dedicated chatbot design tools, that allow for immediate preview, team collaboration and video export.an important part of the chatbot design is also centered around user testing. user testing can be performed following the same principles that guide the user testing of graphical interfaces.\n",
            "\n",
            "building\n",
            "the process of building a chatbot can be divided into two main tasks: understanding the user's intent and producing the correct answer. the first task involves understanding the user input. in order to properly understand a user input in a free text form, a natural language processing engine can be used.the second task may involve different approaches depending on the type of the response that the chatbot will generate.\n",
            "\n",
            "analytics\n",
            "the usage of the chatbot can be monitored in order to spot potential flaws or problems. it can also provide useful insights that can improve the final user experience.\n",
            "\n",
            "maintenance\n",
            "to keep chatbots up to speed with changing company products and services, traditional chatbot development platforms require ongoing maintenance. this can either be in the form of an ongoing service provider or for larger enterprises in the form of an in-house chatbot training team.to eliminate these costs, some startups are experimenting with artificial intelligence to develop self-learning chatbots, particularly in customer service applications.\n",
            "\n",
            "chatbot development platforms\n",
            "the process of building, testing and deploying chatbots can be done on cloud based chatbot development platforms offered by cloud platform as a service (paas) providers such as yekaliva, oracle cloud platform, snatchbot and ibm watson.these cloud platforms provide natural language processing, artificial intelligence and mobile backend as a service for chatbot development.\n",
            "\n",
            "apis\n",
            "there are many apis available for building your own chatbots, such as aarc.\n",
            "\n",
            "malicious use\n",
            "malicious chatbots are frequently used to fill chat rooms with spam and advertisements, by mimicking human behaviour and conversations or to entice people into revealing personal information, such as bank account numbers. they are commonly found on yahoo! messenger, windows live messenger, aol instant messenger and other instant messaging protocols. there has also been a published report of a chatbot used in a fake personal ad on a dating service's website.\n",
            "\n"
          ]
        }
      ],
      "source": [
        "print(raw)"
      ]
    },
    {
      "cell_type": "code",
      "execution_count": 15,
      "metadata": {
        "id": "4xD6Ey1NMEo9"
      },
      "outputs": [],
      "source": [
        "#Tokenization\n",
        "sent_tokens = nltk.sent_tokenize(raw)# converts to list of sentences\n",
        "word_tokens = nltk.word_tokenize(raw)# converts to list of words"
      ]
    },
    {
      "cell_type": "code",
      "execution_count": 16,
      "metadata": {
        "colab": {
          "base_uri": "https://localhost:8080/"
        },
        "id": "SW2jv6ZnMzVC",
        "outputId": "4f3cfdd7-1ae8-45f2-b40e-7dcadeb4ebd5"
      },
      "outputs": [
        {
          "output_type": "stream",
          "name": "stdout",
          "text": [
            "['a chatbot (also known as a talkbot, chatterbot, bot, im bot, interactive agent, or artificial conversational entity) is a computer program or an artificial intelligence which conducts a conversation via auditory or textual methods.', 'such programs are often designed to convincingly simulate how a human would behave as a conversational partner, thereby passing the turing test.', 'chatbots are typically used in dialog systems for various practical purposes including customer service or information acquisition.', 'some chatterbots use sophisticated natural language processing systems, but many simpler systems scan for keywords within the input, then pull a reply with the most matching keywords, or the most similar wording pattern, from a database.', 'the term \"chatterbot\" was originally coined by michael mauldin (creator of the first verbot, julia) in 1994 to describe these conversational programs.today, most chatbots are either accessed via virtual assistants such as google assistant and amazon alexa, via messaging apps such as facebook messenger or wechat, or via individual organizations\\' apps and websites.', 'chatbots can be classified into usage categories such as conversational commerce (e-commerce via chat), analytics, communication, customer support, design, developer tools, education, entertainment, finance, food, games, health, hr, marketing, news, personal, productivity, shopping, social, sports, travel and utilities.', 'background\\nin 1950, alan turing\\'s famous article \"computing machinery and intelligence\" was published, which proposed what is now called the turing test as a criterion of intelligence.', 'this criterion depends on the ability of a computer program to impersonate a human in a real-time written conversation with a human judge, sufficiently well that the judge is unable to distinguish reliably—on the basis of the conversational content alone—between the program and a real human.', \"the notoriety of turing's proposed test stimulated great interest in joseph weizenbaum's program eliza, published in 1966, which seemed to be able to fool users into believing that they were conversing with a real human.\", 'however weizenbaum himself did not claim that eliza was genuinely intelligent, and the introduction to his paper presented it more as a debunking exercise:\\n\\n[in] artificial intelligence ... machines are made to behave in wondrous ways, often sufficient to dazzle even the most experienced observer.', 'but once a particular program is unmasked, once its inner workings are explained ... its magic crumbles away; it stands revealed as a mere collection of procedures ... the observer says to himself \"i could have written that\".', 'with that thought he moves the program in question from the shelf marked \"intelligent\", to that reserved for curios ... the object of this paper is to cause just such a re-evaluation of the program about to be \"explained\".', 'few programs ever needed it more.', \"eliza's key method of operation (copied by chatbot designers ever since) involves the recognition of cue words or phrases in the input, and the output of corresponding pre-prepared or pre-programmed responses that can move the conversation forward in an apparently meaningful way (e.g.\", \"by responding to any input that contains the word 'mother' with 'tell me more about your family').thus an illusion of understanding is generated, even though the processing involved has been merely superficial.\", 'eliza showed that such an illusion is surprisingly easy to generate, because human judges are so ready to give the benefit of the doubt when conversational responses are capable of being interpreted as \"intelligent\".', \"interface designers have come to appreciate that humans' readiness to interpret computer output as genuinely conversational—even when it is actually based on rather simple pattern-matching—can be exploited for useful purposes.\", 'most people prefer to engage with programs that are human-like, and this gives chatbot-style techniques a potentially useful role in interactive systems that need to elicit information from users, as long as that information is relatively straightforward and falls into predictable categories.', 'thus, for example, online help systems can usefully employ chatbot techniques to identify the area of help that users require, potentially providing a \"friendlier\" interface than a more formal search or menu system.', 'this sort of usage holds the prospect of moving chatbot technology from weizenbaum\\'s \"shelf ... reserved for curios\" to that marked \"genuinely useful computational methods\".', 'development\\nthe classic historic early chatbots are eliza (1966) and parry (1972).more recent notable programs include a.l.i.c.e., jabberwacky and d.u.d.e (agence nationale de la recherche and cnrs 2006).', 'while eliza and parry were used exclusively to simulate typed conversation, many chatbots now include functional features such as games and web searching abilities.', \"in 1984, a book called the policeman's beard is half constructed was published, allegedly written by the chatbot racter (though the program as released would not have been capable of doing so).\", 'one pertinent field of ai research is natural language processing.', 'usually, weak ai fields employ specialized software or programming languages created specifically for the narrow function required.', 'for example, a.l.i.c.e.', 'uses a markup language called aiml, which is specific to its function as a conversational agent, and has since been adopted by various other developers of, so called, alicebots.', 'nevertheless, a.l.i.c.e.', 'is still purely based on pattern matching techniques without any reasoning capabilities, the same technique eliza was using back in 1966. this is not strong ai, which would require sapience and logical reasoning abilities.', 'jabberwacky learns new responses and context based on real-time user interactions, rather than being driven from a static database.', 'some more recent chatbots also combine real-time learning with evolutionary algorithms that optimise their ability to communicate based on each conversation held.', 'still, there is currently no general purpose conversational artificial intelligence, and some software developers focus on the practical aspect, information retrieval.', 'chatbot competitions focus on the turing test or more specific goals.', 'two such annual contests are the loebner prize and the chatterbox challenge (offline since 2015, materials can still be found from web archives).', 'according to forrester (2015), ai will replace 16 percent of american jobs by the end of the decade.chatbots have been used in applications such as customer service, sales and product education.', 'however, a study conducted by narrative science in 2015 found that 80 percent of their respondents believe ai improves worker performance and creates jobs.', \"[citation needed]\\n\\napplication\\nsee also: virtual assistant\\n\\naeromexico airline chatbot running on facebook messenger, march 2018\\nmessaging apps\\nmany companies' chatbots run on messaging apps like facebook messenger (since 2016), wechat (since 2013),whatsapp, livechat, kik, slack, line, telegram, or simply via sms.\", 'they are used for b2c customer service, sales and marketing.', 'in 2016, facebook messenger allowed developers to place chatbots on their platform.', 'there were 30,000 bots created for messenger in the first six months, rising to 100,000 by september 2017.\\n\\nsince september 2017, this has also been as part of a pilot program on whatsapp.', 'airlines klm and aeroméxico both announced their participation in the testing;both airlines had previously launched customer services on the facebook messenger platform.', \"the bots usually appear as one of the user's contacts, but can sometimes act as participants in a group chat.\", 'many banks and insurers, media and e-commerce companies, airlines and hotel chains, retailers, health care providers, government entities and restaurant chains have used chatbots to answer simple questions, increase customer engagement,for promotion, and to offer additional ways to order from them.', 'a 2017 study showed 4% of companies used chatbots.according to a 2016 study, 80% of businesses said they intended to have one by 2020.\\n\\nas part of company apps and websites\\nprevious generations of chatbots were present on company websites, e.g.', 'ask jenn from alaska airlines which debuted in 2008 or expedia\\'s virtual customer service agent which launched in 2011.the newer generation of chatbots includes ibm watson-powered \"rocky\", introduced in february 2017 by the new york city-based e-commerce company rare carat to provide information to prospective diamond buyers.', 'company internal platforms\\nother companies explore ways they can use chatbots internally, for example for customer support, human resources, or even in internet-of-things (iot) projects.', 'overstock.com, for one, has reportedly launched a chatbot named mila to automate certain simple yet time-consuming processes when requesting for a sick leave.other large companies such as lloyds banking group, royal bank of scotland, renault and citroën are now using automated online assistants instead of call centres with humans to provide a first point of contact.', 'a saas chatbot business ecosystem has been steadily growing since the f8 conference when zuckerberg unveiled that messenger would allow chatbots into the app.', 'toys\\nchatbots have also been incorporated into devices not primarily meant for computing such as toys.', \"hello barbie is an internet-connected version of the doll that uses a chatbot provided by the company toytalk,which previously used the chatbot for a range of smartphone-based characters for children.these characters' behaviors are constrained by a set of rules that in effect emulate a particular character and produce a storyline.\", \"ibm's watson computer has been used as the basis for chatbot-based educational toys for companies such as cognitoys intended to interact with children for educational purposes.\", 'chatbot creation\\nthe process of creating a chatbot follows a pattern similar to the development of a web page or a mobile app.', 'it can be divided into design, building, analytics and maintenance.', 'design\\nthe chatbot design is the process that defines the interaction between the user and the chatbot.the chatbot designer will define the chatbot personality, the questions that will be asked to the users, and the overall interaction.it can be viewed as a subset of the conversational design.', 'in order to speed up this process, designers can use dedicated chatbot design tools, that allow for immediate preview, team collaboration and video export.an important part of the chatbot design is also centered around user testing.', 'user testing can be performed following the same principles that guide the user testing of graphical interfaces.', \"building\\nthe process of building a chatbot can be divided into two main tasks: understanding the user's intent and producing the correct answer.\", 'the first task involves understanding the user input.', 'in order to properly understand a user input in a free text form, a natural language processing engine can be used.the second task may involve different approaches depending on the type of the response that the chatbot will generate.', 'analytics\\nthe usage of the chatbot can be monitored in order to spot potential flaws or problems.', 'it can also provide useful insights that can improve the final user experience.', 'maintenance\\nto keep chatbots up to speed with changing company products and services, traditional chatbot development platforms require ongoing maintenance.', 'this can either be in the form of an ongoing service provider or for larger enterprises in the form of an in-house chatbot training team.to eliminate these costs, some startups are experimenting with artificial intelligence to develop self-learning chatbots, particularly in customer service applications.', 'chatbot development platforms\\nthe process of building, testing and deploying chatbots can be done on cloud based chatbot development platforms offered by cloud platform as a service (paas) providers such as yekaliva, oracle cloud platform, snatchbot and ibm watson.these cloud platforms provide natural language processing, artificial intelligence and mobile backend as a service for chatbot development.', 'apis\\nthere are many apis available for building your own chatbots, such as aarc.', 'malicious use\\nmalicious chatbots are frequently used to fill chat rooms with spam and advertisements, by mimicking human behaviour and conversations or to entice people into revealing personal information, such as bank account numbers.', 'they are commonly found on yahoo!', 'messenger, windows live messenger, aol instant messenger and other instant messaging protocols.', \"there has also been a published report of a chatbot used in a fake personal ad on a dating service's website.\"]\n"
          ]
        }
      ],
      "source": [
        "print(sent_tokens)"
      ]
    },
    {
      "cell_type": "code",
      "source": [
        "print(word_tokens)"
      ],
      "metadata": {
        "colab": {
          "base_uri": "https://localhost:8080/"
        },
        "id": "5DolZIMzvECo",
        "outputId": "39f609dc-64ea-461b-c239-358422c17831"
      },
      "execution_count": 17,
      "outputs": [
        {
          "output_type": "stream",
          "name": "stdout",
          "text": [
            "['a', 'chatbot', '(', 'also', 'known', 'as', 'a', 'talkbot', ',', 'chatterbot', ',', 'bot', ',', 'im', 'bot', ',', 'interactive', 'agent', ',', 'or', 'artificial', 'conversational', 'entity', ')', 'is', 'a', 'computer', 'program', 'or', 'an', 'artificial', 'intelligence', 'which', 'conducts', 'a', 'conversation', 'via', 'auditory', 'or', 'textual', 'methods', '.', 'such', 'programs', 'are', 'often', 'designed', 'to', 'convincingly', 'simulate', 'how', 'a', 'human', 'would', 'behave', 'as', 'a', 'conversational', 'partner', ',', 'thereby', 'passing', 'the', 'turing', 'test', '.', 'chatbots', 'are', 'typically', 'used', 'in', 'dialog', 'systems', 'for', 'various', 'practical', 'purposes', 'including', 'customer', 'service', 'or', 'information', 'acquisition', '.', 'some', 'chatterbots', 'use', 'sophisticated', 'natural', 'language', 'processing', 'systems', ',', 'but', 'many', 'simpler', 'systems', 'scan', 'for', 'keywords', 'within', 'the', 'input', ',', 'then', 'pull', 'a', 'reply', 'with', 'the', 'most', 'matching', 'keywords', ',', 'or', 'the', 'most', 'similar', 'wording', 'pattern', ',', 'from', 'a', 'database', '.', 'the', 'term', '``', 'chatterbot', \"''\", 'was', 'originally', 'coined', 'by', 'michael', 'mauldin', '(', 'creator', 'of', 'the', 'first', 'verbot', ',', 'julia', ')', 'in', '1994', 'to', 'describe', 'these', 'conversational', 'programs.today', ',', 'most', 'chatbots', 'are', 'either', 'accessed', 'via', 'virtual', 'assistants', 'such', 'as', 'google', 'assistant', 'and', 'amazon', 'alexa', ',', 'via', 'messaging', 'apps', 'such', 'as', 'facebook', 'messenger', 'or', 'wechat', ',', 'or', 'via', 'individual', 'organizations', \"'\", 'apps', 'and', 'websites', '.', 'chatbots', 'can', 'be', 'classified', 'into', 'usage', 'categories', 'such', 'as', 'conversational', 'commerce', '(', 'e-commerce', 'via', 'chat', ')', ',', 'analytics', ',', 'communication', ',', 'customer', 'support', ',', 'design', ',', 'developer', 'tools', ',', 'education', ',', 'entertainment', ',', 'finance', ',', 'food', ',', 'games', ',', 'health', ',', 'hr', ',', 'marketing', ',', 'news', ',', 'personal', ',', 'productivity', ',', 'shopping', ',', 'social', ',', 'sports', ',', 'travel', 'and', 'utilities', '.', 'background', 'in', '1950', ',', 'alan', 'turing', \"'s\", 'famous', 'article', '``', 'computing', 'machinery', 'and', 'intelligence', \"''\", 'was', 'published', ',', 'which', 'proposed', 'what', 'is', 'now', 'called', 'the', 'turing', 'test', 'as', 'a', 'criterion', 'of', 'intelligence', '.', 'this', 'criterion', 'depends', 'on', 'the', 'ability', 'of', 'a', 'computer', 'program', 'to', 'impersonate', 'a', 'human', 'in', 'a', 'real-time', 'written', 'conversation', 'with', 'a', 'human', 'judge', ',', 'sufficiently', 'well', 'that', 'the', 'judge', 'is', 'unable', 'to', 'distinguish', 'reliably—on', 'the', 'basis', 'of', 'the', 'conversational', 'content', 'alone—between', 'the', 'program', 'and', 'a', 'real', 'human', '.', 'the', 'notoriety', 'of', 'turing', \"'s\", 'proposed', 'test', 'stimulated', 'great', 'interest', 'in', 'joseph', 'weizenbaum', \"'s\", 'program', 'eliza', ',', 'published', 'in', '1966', ',', 'which', 'seemed', 'to', 'be', 'able', 'to', 'fool', 'users', 'into', 'believing', 'that', 'they', 'were', 'conversing', 'with', 'a', 'real', 'human', '.', 'however', 'weizenbaum', 'himself', 'did', 'not', 'claim', 'that', 'eliza', 'was', 'genuinely', 'intelligent', ',', 'and', 'the', 'introduction', 'to', 'his', 'paper', 'presented', 'it', 'more', 'as', 'a', 'debunking', 'exercise', ':', '[', 'in', ']', 'artificial', 'intelligence', '...', 'machines', 'are', 'made', 'to', 'behave', 'in', 'wondrous', 'ways', ',', 'often', 'sufficient', 'to', 'dazzle', 'even', 'the', 'most', 'experienced', 'observer', '.', 'but', 'once', 'a', 'particular', 'program', 'is', 'unmasked', ',', 'once', 'its', 'inner', 'workings', 'are', 'explained', '...', 'its', 'magic', 'crumbles', 'away', ';', 'it', 'stands', 'revealed', 'as', 'a', 'mere', 'collection', 'of', 'procedures', '...', 'the', 'observer', 'says', 'to', 'himself', '``', 'i', 'could', 'have', 'written', 'that', \"''\", '.', 'with', 'that', 'thought', 'he', 'moves', 'the', 'program', 'in', 'question', 'from', 'the', 'shelf', 'marked', '``', 'intelligent', \"''\", ',', 'to', 'that', 'reserved', 'for', 'curios', '...', 'the', 'object', 'of', 'this', 'paper', 'is', 'to', 'cause', 'just', 'such', 'a', 're-evaluation', 'of', 'the', 'program', 'about', 'to', 'be', '``', 'explained', \"''\", '.', 'few', 'programs', 'ever', 'needed', 'it', 'more', '.', 'eliza', \"'s\", 'key', 'method', 'of', 'operation', '(', 'copied', 'by', 'chatbot', 'designers', 'ever', 'since', ')', 'involves', 'the', 'recognition', 'of', 'cue', 'words', 'or', 'phrases', 'in', 'the', 'input', ',', 'and', 'the', 'output', 'of', 'corresponding', 'pre-prepared', 'or', 'pre-programmed', 'responses', 'that', 'can', 'move', 'the', 'conversation', 'forward', 'in', 'an', 'apparently', 'meaningful', 'way', '(', 'e.g', '.', 'by', 'responding', 'to', 'any', 'input', 'that', 'contains', 'the', 'word', \"'mother\", \"'\", 'with', \"'tell\", 'me', 'more', 'about', 'your', 'family', \"'\", ')', '.thus', 'an', 'illusion', 'of', 'understanding', 'is', 'generated', ',', 'even', 'though', 'the', 'processing', 'involved', 'has', 'been', 'merely', 'superficial', '.', 'eliza', 'showed', 'that', 'such', 'an', 'illusion', 'is', 'surprisingly', 'easy', 'to', 'generate', ',', 'because', 'human', 'judges', 'are', 'so', 'ready', 'to', 'give', 'the', 'benefit', 'of', 'the', 'doubt', 'when', 'conversational', 'responses', 'are', 'capable', 'of', 'being', 'interpreted', 'as', '``', 'intelligent', \"''\", '.', 'interface', 'designers', 'have', 'come', 'to', 'appreciate', 'that', 'humans', \"'\", 'readiness', 'to', 'interpret', 'computer', 'output', 'as', 'genuinely', 'conversational—even', 'when', 'it', 'is', 'actually', 'based', 'on', 'rather', 'simple', 'pattern-matching—can', 'be', 'exploited', 'for', 'useful', 'purposes', '.', 'most', 'people', 'prefer', 'to', 'engage', 'with', 'programs', 'that', 'are', 'human-like', ',', 'and', 'this', 'gives', 'chatbot-style', 'techniques', 'a', 'potentially', 'useful', 'role', 'in', 'interactive', 'systems', 'that', 'need', 'to', 'elicit', 'information', 'from', 'users', ',', 'as', 'long', 'as', 'that', 'information', 'is', 'relatively', 'straightforward', 'and', 'falls', 'into', 'predictable', 'categories', '.', 'thus', ',', 'for', 'example', ',', 'online', 'help', 'systems', 'can', 'usefully', 'employ', 'chatbot', 'techniques', 'to', 'identify', 'the', 'area', 'of', 'help', 'that', 'users', 'require', ',', 'potentially', 'providing', 'a', '``', 'friendlier', \"''\", 'interface', 'than', 'a', 'more', 'formal', 'search', 'or', 'menu', 'system', '.', 'this', 'sort', 'of', 'usage', 'holds', 'the', 'prospect', 'of', 'moving', 'chatbot', 'technology', 'from', 'weizenbaum', \"'s\", '``', 'shelf', '...', 'reserved', 'for', 'curios', \"''\", 'to', 'that', 'marked', '``', 'genuinely', 'useful', 'computational', 'methods', \"''\", '.', 'development', 'the', 'classic', 'historic', 'early', 'chatbots', 'are', 'eliza', '(', '1966', ')', 'and', 'parry', '(', '1972', ')', '.more', 'recent', 'notable', 'programs', 'include', 'a.l.i.c.e.', ',', 'jabberwacky', 'and', 'd.u.d.e', '(', 'agence', 'nationale', 'de', 'la', 'recherche', 'and', 'cnrs', '2006', ')', '.', 'while', 'eliza', 'and', 'parry', 'were', 'used', 'exclusively', 'to', 'simulate', 'typed', 'conversation', ',', 'many', 'chatbots', 'now', 'include', 'functional', 'features', 'such', 'as', 'games', 'and', 'web', 'searching', 'abilities', '.', 'in', '1984', ',', 'a', 'book', 'called', 'the', 'policeman', \"'s\", 'beard', 'is', 'half', 'constructed', 'was', 'published', ',', 'allegedly', 'written', 'by', 'the', 'chatbot', 'racter', '(', 'though', 'the', 'program', 'as', 'released', 'would', 'not', 'have', 'been', 'capable', 'of', 'doing', 'so', ')', '.', 'one', 'pertinent', 'field', 'of', 'ai', 'research', 'is', 'natural', 'language', 'processing', '.', 'usually', ',', 'weak', 'ai', 'fields', 'employ', 'specialized', 'software', 'or', 'programming', 'languages', 'created', 'specifically', 'for', 'the', 'narrow', 'function', 'required', '.', 'for', 'example', ',', 'a.l.i.c.e', '.', 'uses', 'a', 'markup', 'language', 'called', 'aiml', ',', 'which', 'is', 'specific', 'to', 'its', 'function', 'as', 'a', 'conversational', 'agent', ',', 'and', 'has', 'since', 'been', 'adopted', 'by', 'various', 'other', 'developers', 'of', ',', 'so', 'called', ',', 'alicebots', '.', 'nevertheless', ',', 'a.l.i.c.e', '.', 'is', 'still', 'purely', 'based', 'on', 'pattern', 'matching', 'techniques', 'without', 'any', 'reasoning', 'capabilities', ',', 'the', 'same', 'technique', 'eliza', 'was', 'using', 'back', 'in', '1966.', 'this', 'is', 'not', 'strong', 'ai', ',', 'which', 'would', 'require', 'sapience', 'and', 'logical', 'reasoning', 'abilities', '.', 'jabberwacky', 'learns', 'new', 'responses', 'and', 'context', 'based', 'on', 'real-time', 'user', 'interactions', ',', 'rather', 'than', 'being', 'driven', 'from', 'a', 'static', 'database', '.', 'some', 'more', 'recent', 'chatbots', 'also', 'combine', 'real-time', 'learning', 'with', 'evolutionary', 'algorithms', 'that', 'optimise', 'their', 'ability', 'to', 'communicate', 'based', 'on', 'each', 'conversation', 'held', '.', 'still', ',', 'there', 'is', 'currently', 'no', 'general', 'purpose', 'conversational', 'artificial', 'intelligence', ',', 'and', 'some', 'software', 'developers', 'focus', 'on', 'the', 'practical', 'aspect', ',', 'information', 'retrieval', '.', 'chatbot', 'competitions', 'focus', 'on', 'the', 'turing', 'test', 'or', 'more', 'specific', 'goals', '.', 'two', 'such', 'annual', 'contests', 'are', 'the', 'loebner', 'prize', 'and', 'the', 'chatterbox', 'challenge', '(', 'offline', 'since', '2015', ',', 'materials', 'can', 'still', 'be', 'found', 'from', 'web', 'archives', ')', '.', 'according', 'to', 'forrester', '(', '2015', ')', ',', 'ai', 'will', 'replace', '16', 'percent', 'of', 'american', 'jobs', 'by', 'the', 'end', 'of', 'the', 'decade.chatbots', 'have', 'been', 'used', 'in', 'applications', 'such', 'as', 'customer', 'service', ',', 'sales', 'and', 'product', 'education', '.', 'however', ',', 'a', 'study', 'conducted', 'by', 'narrative', 'science', 'in', '2015', 'found', 'that', '80', 'percent', 'of', 'their', 'respondents', 'believe', 'ai', 'improves', 'worker', 'performance', 'and', 'creates', 'jobs', '.', '[', 'citation', 'needed', ']', 'application', 'see', 'also', ':', 'virtual', 'assistant', 'aeromexico', 'airline', 'chatbot', 'running', 'on', 'facebook', 'messenger', ',', 'march', '2018', 'messaging', 'apps', 'many', 'companies', \"'\", 'chatbots', 'run', 'on', 'messaging', 'apps', 'like', 'facebook', 'messenger', '(', 'since', '2016', ')', ',', 'wechat', '(', 'since', '2013', ')', ',', 'whatsapp', ',', 'livechat', ',', 'kik', ',', 'slack', ',', 'line', ',', 'telegram', ',', 'or', 'simply', 'via', 'sms', '.', 'they', 'are', 'used', 'for', 'b2c', 'customer', 'service', ',', 'sales', 'and', 'marketing', '.', 'in', '2016', ',', 'facebook', 'messenger', 'allowed', 'developers', 'to', 'place', 'chatbots', 'on', 'their', 'platform', '.', 'there', 'were', '30,000', 'bots', 'created', 'for', 'messenger', 'in', 'the', 'first', 'six', 'months', ',', 'rising', 'to', '100,000', 'by', 'september', '2017.', 'since', 'september', '2017', ',', 'this', 'has', 'also', 'been', 'as', 'part', 'of', 'a', 'pilot', 'program', 'on', 'whatsapp', '.', 'airlines', 'klm', 'and', 'aeroméxico', 'both', 'announced', 'their', 'participation', 'in', 'the', 'testing', ';', 'both', 'airlines', 'had', 'previously', 'launched', 'customer', 'services', 'on', 'the', 'facebook', 'messenger', 'platform', '.', 'the', 'bots', 'usually', 'appear', 'as', 'one', 'of', 'the', 'user', \"'s\", 'contacts', ',', 'but', 'can', 'sometimes', 'act', 'as', 'participants', 'in', 'a', 'group', 'chat', '.', 'many', 'banks', 'and', 'insurers', ',', 'media', 'and', 'e-commerce', 'companies', ',', 'airlines', 'and', 'hotel', 'chains', ',', 'retailers', ',', 'health', 'care', 'providers', ',', 'government', 'entities', 'and', 'restaurant', 'chains', 'have', 'used', 'chatbots', 'to', 'answer', 'simple', 'questions', ',', 'increase', 'customer', 'engagement', ',', 'for', 'promotion', ',', 'and', 'to', 'offer', 'additional', 'ways', 'to', 'order', 'from', 'them', '.', 'a', '2017', 'study', 'showed', '4', '%', 'of', 'companies', 'used', 'chatbots.according', 'to', 'a', '2016', 'study', ',', '80', '%', 'of', 'businesses', 'said', 'they', 'intended', 'to', 'have', 'one', 'by', '2020.', 'as', 'part', 'of', 'company', 'apps', 'and', 'websites', 'previous', 'generations', 'of', 'chatbots', 'were', 'present', 'on', 'company', 'websites', ',', 'e.g', '.', 'ask', 'jenn', 'from', 'alaska', 'airlines', 'which', 'debuted', 'in', '2008', 'or', 'expedia', \"'s\", 'virtual', 'customer', 'service', 'agent', 'which', 'launched', 'in', '2011.the', 'newer', 'generation', 'of', 'chatbots', 'includes', 'ibm', 'watson-powered', '``', 'rocky', \"''\", ',', 'introduced', 'in', 'february', '2017', 'by', 'the', 'new', 'york', 'city-based', 'e-commerce', 'company', 'rare', 'carat', 'to', 'provide', 'information', 'to', 'prospective', 'diamond', 'buyers', '.', 'company', 'internal', 'platforms', 'other', 'companies', 'explore', 'ways', 'they', 'can', 'use', 'chatbots', 'internally', ',', 'for', 'example', 'for', 'customer', 'support', ',', 'human', 'resources', ',', 'or', 'even', 'in', 'internet-of-things', '(', 'iot', ')', 'projects', '.', 'overstock.com', ',', 'for', 'one', ',', 'has', 'reportedly', 'launched', 'a', 'chatbot', 'named', 'mila', 'to', 'automate', 'certain', 'simple', 'yet', 'time-consuming', 'processes', 'when', 'requesting', 'for', 'a', 'sick', 'leave.other', 'large', 'companies', 'such', 'as', 'lloyds', 'banking', 'group', ',', 'royal', 'bank', 'of', 'scotland', ',', 'renault', 'and', 'citroën', 'are', 'now', 'using', 'automated', 'online', 'assistants', 'instead', 'of', 'call', 'centres', 'with', 'humans', 'to', 'provide', 'a', 'first', 'point', 'of', 'contact', '.', 'a', 'saas', 'chatbot', 'business', 'ecosystem', 'has', 'been', 'steadily', 'growing', 'since', 'the', 'f8', 'conference', 'when', 'zuckerberg', 'unveiled', 'that', 'messenger', 'would', 'allow', 'chatbots', 'into', 'the', 'app', '.', 'toys', 'chatbots', 'have', 'also', 'been', 'incorporated', 'into', 'devices', 'not', 'primarily', 'meant', 'for', 'computing', 'such', 'as', 'toys', '.', 'hello', 'barbie', 'is', 'an', 'internet-connected', 'version', 'of', 'the', 'doll', 'that', 'uses', 'a', 'chatbot', 'provided', 'by', 'the', 'company', 'toytalk', ',', 'which', 'previously', 'used', 'the', 'chatbot', 'for', 'a', 'range', 'of', 'smartphone-based', 'characters', 'for', 'children.these', 'characters', \"'\", 'behaviors', 'are', 'constrained', 'by', 'a', 'set', 'of', 'rules', 'that', 'in', 'effect', 'emulate', 'a', 'particular', 'character', 'and', 'produce', 'a', 'storyline', '.', 'ibm', \"'s\", 'watson', 'computer', 'has', 'been', 'used', 'as', 'the', 'basis', 'for', 'chatbot-based', 'educational', 'toys', 'for', 'companies', 'such', 'as', 'cognitoys', 'intended', 'to', 'interact', 'with', 'children', 'for', 'educational', 'purposes', '.', 'chatbot', 'creation', 'the', 'process', 'of', 'creating', 'a', 'chatbot', 'follows', 'a', 'pattern', 'similar', 'to', 'the', 'development', 'of', 'a', 'web', 'page', 'or', 'a', 'mobile', 'app', '.', 'it', 'can', 'be', 'divided', 'into', 'design', ',', 'building', ',', 'analytics', 'and', 'maintenance', '.', 'design', 'the', 'chatbot', 'design', 'is', 'the', 'process', 'that', 'defines', 'the', 'interaction', 'between', 'the', 'user', 'and', 'the', 'chatbot.the', 'chatbot', 'designer', 'will', 'define', 'the', 'chatbot', 'personality', ',', 'the', 'questions', 'that', 'will', 'be', 'asked', 'to', 'the', 'users', ',', 'and', 'the', 'overall', 'interaction.it', 'can', 'be', 'viewed', 'as', 'a', 'subset', 'of', 'the', 'conversational', 'design', '.', 'in', 'order', 'to', 'speed', 'up', 'this', 'process', ',', 'designers', 'can', 'use', 'dedicated', 'chatbot', 'design', 'tools', ',', 'that', 'allow', 'for', 'immediate', 'preview', ',', 'team', 'collaboration', 'and', 'video', 'export.an', 'important', 'part', 'of', 'the', 'chatbot', 'design', 'is', 'also', 'centered', 'around', 'user', 'testing', '.', 'user', 'testing', 'can', 'be', 'performed', 'following', 'the', 'same', 'principles', 'that', 'guide', 'the', 'user', 'testing', 'of', 'graphical', 'interfaces', '.', 'building', 'the', 'process', 'of', 'building', 'a', 'chatbot', 'can', 'be', 'divided', 'into', 'two', 'main', 'tasks', ':', 'understanding', 'the', 'user', \"'s\", 'intent', 'and', 'producing', 'the', 'correct', 'answer', '.', 'the', 'first', 'task', 'involves', 'understanding', 'the', 'user', 'input', '.', 'in', 'order', 'to', 'properly', 'understand', 'a', 'user', 'input', 'in', 'a', 'free', 'text', 'form', ',', 'a', 'natural', 'language', 'processing', 'engine', 'can', 'be', 'used.the', 'second', 'task', 'may', 'involve', 'different', 'approaches', 'depending', 'on', 'the', 'type', 'of', 'the', 'response', 'that', 'the', 'chatbot', 'will', 'generate', '.', 'analytics', 'the', 'usage', 'of', 'the', 'chatbot', 'can', 'be', 'monitored', 'in', 'order', 'to', 'spot', 'potential', 'flaws', 'or', 'problems', '.', 'it', 'can', 'also', 'provide', 'useful', 'insights', 'that', 'can', 'improve', 'the', 'final', 'user', 'experience', '.', 'maintenance', 'to', 'keep', 'chatbots', 'up', 'to', 'speed', 'with', 'changing', 'company', 'products', 'and', 'services', ',', 'traditional', 'chatbot', 'development', 'platforms', 'require', 'ongoing', 'maintenance', '.', 'this', 'can', 'either', 'be', 'in', 'the', 'form', 'of', 'an', 'ongoing', 'service', 'provider', 'or', 'for', 'larger', 'enterprises', 'in', 'the', 'form', 'of', 'an', 'in-house', 'chatbot', 'training', 'team.to', 'eliminate', 'these', 'costs', ',', 'some', 'startups', 'are', 'experimenting', 'with', 'artificial', 'intelligence', 'to', 'develop', 'self-learning', 'chatbots', ',', 'particularly', 'in', 'customer', 'service', 'applications', '.', 'chatbot', 'development', 'platforms', 'the', 'process', 'of', 'building', ',', 'testing', 'and', 'deploying', 'chatbots', 'can', 'be', 'done', 'on', 'cloud', 'based', 'chatbot', 'development', 'platforms', 'offered', 'by', 'cloud', 'platform', 'as', 'a', 'service', '(', 'paas', ')', 'providers', 'such', 'as', 'yekaliva', ',', 'oracle', 'cloud', 'platform', ',', 'snatchbot', 'and', 'ibm', 'watson.these', 'cloud', 'platforms', 'provide', 'natural', 'language', 'processing', ',', 'artificial', 'intelligence', 'and', 'mobile', 'backend', 'as', 'a', 'service', 'for', 'chatbot', 'development', '.', 'apis', 'there', 'are', 'many', 'apis', 'available', 'for', 'building', 'your', 'own', 'chatbots', ',', 'such', 'as', 'aarc', '.', 'malicious', 'use', 'malicious', 'chatbots', 'are', 'frequently', 'used', 'to', 'fill', 'chat', 'rooms', 'with', 'spam', 'and', 'advertisements', ',', 'by', 'mimicking', 'human', 'behaviour', 'and', 'conversations', 'or', 'to', 'entice', 'people', 'into', 'revealing', 'personal', 'information', ',', 'such', 'as', 'bank', 'account', 'numbers', '.', 'they', 'are', 'commonly', 'found', 'on', 'yahoo', '!', 'messenger', ',', 'windows', 'live', 'messenger', ',', 'aol', 'instant', 'messenger', 'and', 'other', 'instant', 'messaging', 'protocols', '.', 'there', 'has', 'also', 'been', 'a', 'published', 'report', 'of', 'a', 'chatbot', 'used', 'in', 'a', 'fake', 'personal', 'ad', 'on', 'a', 'dating', 'service', \"'s\", 'website', '.']\n"
          ]
        }
      ]
    },
    {
      "cell_type": "code",
      "source": [
        "# Preprocessing\n",
        "lemmer = WordNetLemmatizer()\n",
        "def LemTokens(tokens):\n",
        "    return [lemmer.lemmatize(token) for token in tokens]\n",
        "remove_punct_dict = dict((ord(punct), None) for punct in string.punctuation)\n",
        "def LemNormalize(text):\n",
        "    return LemTokens(nltk.word_tokenize(text.lower().translate(remove_punct_dict)))\n"
      ],
      "metadata": {
        "id": "sDrSaDcjwJc-"
      },
      "execution_count": 18,
      "outputs": []
    },
    {
      "cell_type": "code",
      "source": [
        "\n",
        "# Keyword Matching\n",
        "GREETING_INPUTS = (\"hello\", \"hi\", \"greetings\", \"sup\", \"what's up\",\"hey\",)\n",
        "GREETING_RESPONSES = [\"hi\", \"hey\", \"How can I assist You\", \"hi there\", \"hello\", \"I am glad! You are talking to me\"]\n",
        "\n",
        "def greeting(sentence):\n",
        "    \"\"\"If user's input is a greeting, return a greeting response\"\"\"\n",
        "    for word in sentence.split():\n",
        "        if word.lower() in GREETING_INPUTS:\n",
        "            return random.choice(GREETING_RESPONSES)\n"
      ],
      "metadata": {
        "id": "x1f5AAA0wsdz"
      },
      "execution_count": 19,
      "outputs": []
    },
    {
      "cell_type": "code",
      "source": [
        "# Generating response\n",
        "def response(user_response):\n",
        "    robo_response=''\n",
        "    sent_tokens.append(user_response)\n",
        "    TfidfVec = TfidfVectorizer(tokenizer=LemNormalize, stop_words='english')\n",
        "    print(TfidfVec)\n",
        "    tfidf = TfidfVec.fit_transform(sent_tokens)\n",
        "    print(tfidf)\n",
        "    vals = cosine_similarity(tfidf[-1], tfidf)\n",
        "    print(vals)\n",
        "    idx=vals.argsort()[0][-2]\n",
        "    flat = vals.flatten()\n",
        "    print(flat)\n",
        "    flat.sort()\n",
        "    req_tfidf = flat[-2]\n",
        "    print(req_tfidf)\n",
        "    if(req_tfidf==0):\n",
        "        robo_response=robo_response+\"I am sorry! I don't understand you\"\n",
        "        return robo_response\n",
        "    else:\n",
        "        robo_response = robo_response+sent_tokens[idx]\n",
        "        return robo_response\n"
      ],
      "metadata": {
        "id": "k51ZbOzIw7dj"
      },
      "execution_count": 20,
      "outputs": []
    },
    {
      "cell_type": "code",
      "source": [
        "flag=True\n",
        "print(\"ROBO: My name is Robo. I will answer your queries about Chatbots. If you want to exit, type Bye!\")\n",
        "while(flag==True):\n",
        "    user_response = input()\n",
        "    user_response=user_response.lower()\n",
        "    if(user_response!='bye'):\n",
        "        if(user_response=='thanks' or user_response=='thank you' ):\n",
        "            flag=False\n",
        "            print(\"ROBO: You are welcome..\")\n",
        "        else:\n",
        "            if(greeting(user_response)!=None):\n",
        "                print(\"ROBO: \"+greeting(user_response))\n",
        "            else:\n",
        "                print(\"ROBO: \",end=\"\")\n",
        "                print(response(user_response))\n",
        "                sent_tokens.remove(user_response)\n",
        "    else:\n",
        "        flag=False\n",
        "        print(\"ROBO: Bye! take care..\")\n",
        "\n"
      ],
      "metadata": {
        "colab": {
          "base_uri": "https://localhost:8080/"
        },
        "id": "wLXtKZ9CxLEd",
        "outputId": "b02e06bd-ae1f-43c0-b3b5-e3ece95aa04b"
      },
      "execution_count": 21,
      "outputs": [
        {
          "output_type": "stream",
          "name": "stdout",
          "text": [
            "ROBO: My name is Robo. I will answer your queries about Chatbots. If you want to exit, type Bye!\n",
            "hi\n",
            "ROBO: How can I assist You\n",
            "Chatbot\n",
            "ROBO: TfidfVectorizer(stop_words='english',\n",
            "                tokenizer=<function LemNormalize at 0x7ca21642cd30>)\n",
            "  (0, 385)\t0.20092943795199827\n",
            "  (0, 599)\t0.23685818467646239\n",
            "  (0, 72)\t0.23685818467646239\n",
            "  (0, 156)\t0.17192218744064114\n",
            "  (0, 146)\t0.23685818467646239\n",
            "  (0, 315)\t0.17192218744064114\n",
            "  (0, 471)\t0.14398372169581455\n",
            "  (0, 144)\t0.18936296496730098\n",
            "  (0, 226)\t0.2158412151447428\n",
            "  (0, 157)\t0.15343421824283685\n",
            "  (0, 67)\t0.3598249368405574\n",
            "  (0, 35)\t0.20092943795199827\n",
            "  (0, 322)\t0.2158412151447428\n",
            "  (0, 295)\t0.23685818467646239\n",
            "  (0, 93)\t0.40185887590399655\n",
            "  (0, 118)\t0.2158412151447428\n",
            "  (0, 586)\t0.23685818467646239\n",
            "  (0, 347)\t0.23685818467646239\n",
            "  (0, 112)\t0.11256514223983996\n",
            "  (1, 595)\t0.2795592932646333\n",
            "  (1, 608)\t0.2795592932646333\n",
            "  (1, 432)\t0.34967717538395077\n",
            "  (1, 431)\t0.34967717538395077\n",
            "  (1, 86)\t0.3186495182606773\n",
            "  (1, 289)\t0.23457973094098647\n",
            "  :\t:\n",
            "  (65, 619)\t0.1408160675134102\n",
            "  (65, 114)\t0.11142989469757816\n",
            "  (65, 289)\t0.15067986605460232\n",
            "  (65, 156)\t0.16303301450684005\n",
            "  (66, 652)\t0.7071067811865476\n",
            "  (66, 138)\t0.7071067811865476\n",
            "  (67, 480)\t0.2764248224945814\n",
            "  (67, 312)\t0.5528496449891628\n",
            "  (67, 55)\t0.2764248224945814\n",
            "  (67, 358)\t0.2764248224945814\n",
            "  (67, 645)\t0.2764248224945814\n",
            "  (67, 384)\t0.5776910793227089\n",
            "  (67, 383)\t0.2344942578010755\n",
            "  (68, 177)\t0.3626846392476124\n",
            "  (68, 28)\t0.3626846392476124\n",
            "  (68, 241)\t0.3626846392476124\n",
            "  (68, 508)\t0.3626846392476124\n",
            "  (68, 279)\t0.25265420426660806\n",
            "  (68, 485)\t0.28995847760057897\n",
            "  (68, 439)\t0.3076694217571102\n",
            "  (68, 640)\t0.3076694217571102\n",
            "  (68, 545)\t0.23494326011007677\n",
            "  (68, 619)\t0.2273784738452637\n",
            "  (68, 112)\t0.17236325635476152\n",
            "  (69, 112)\t1.0\n",
            "[[0.11256514 0.         0.         0.         0.         0.\n",
            "  0.         0.         0.         0.         0.         0.\n",
            "  0.         0.10773733 0.         0.         0.         0.\n",
            "  0.11218998 0.13092554 0.         0.         0.1266473  0.\n",
            "  0.         0.         0.         0.         0.         0.\n",
            "  0.         0.         0.20911259 0.         0.         0.\n",
            "  0.08491223 0.         0.         0.         0.         0.\n",
            "  0.         0.         0.         0.         0.08684383 0.13757098\n",
            "  0.         0.17245417 0.         0.300571   0.         0.30881167\n",
            "  0.22119975 0.         0.14489385 0.         0.11033344 0.17584365\n",
            "  0.         0.14290284 0.10305767 0.18973848 0.         0.\n",
            "  0.         0.         0.17236326 1.        ]]\n",
            "[0.11256514 0.         0.         0.         0.         0.\n",
            " 0.         0.         0.         0.         0.         0.\n",
            " 0.         0.10773733 0.         0.         0.         0.\n",
            " 0.11218998 0.13092554 0.         0.         0.1266473  0.\n",
            " 0.         0.         0.         0.         0.         0.\n",
            " 0.         0.         0.20911259 0.         0.         0.\n",
            " 0.08491223 0.         0.         0.         0.         0.\n",
            " 0.         0.         0.         0.         0.08684383 0.13757098\n",
            " 0.         0.17245417 0.         0.300571   0.         0.30881167\n",
            " 0.22119975 0.         0.14489385 0.         0.11033344 0.17584365\n",
            " 0.         0.14290284 0.10305767 0.18973848 0.         0.\n",
            " 0.         0.         0.17236326 1.        ]\n",
            "0.3088116670501902\n",
            "design\n",
            "the chatbot design is the process that defines the interaction between the user and the chatbot.the chatbot designer will define the chatbot personality, the questions that will be asked to the users, and the overall interaction.it can be viewed as a subset of the conversational design.\n",
            "bye\n",
            "ROBO: Bye! take care..\n"
          ]
        }
      ]
    }
  ],
  "metadata": {
    "colab": {
      "provenance": []
    },
    "kernelspec": {
      "display_name": "Python 3",
      "name": "python3"
    },
    "language_info": {
      "name": "python"
    }
  },
  "nbformat": 4,
  "nbformat_minor": 0
}